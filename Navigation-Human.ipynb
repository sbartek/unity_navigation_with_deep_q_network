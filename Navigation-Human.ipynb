{
 "cells": [
  {
   "cell_type": "markdown",
   "metadata": {},
   "source": [
    "# Play the Game!\n",
    "\n",
    "To get started, \n",
    "1. Run the code cell below by pressing `Shift + Enter`.\n",
    "2. Click on the **\"Launch Game Simulator\"** button.  A new window (or tab) should open in your browser.\n",
    "\n",
    "**NOTE** - It may take a few minutes for the simulator to load after you press the button.  This time might be reduced if you use [Google Chrome](https://www.google.com/chrome/) and close as many other tabs as possible."
   ]
  },
  {
   "cell_type": "code",
   "execution_count": 1,
   "metadata": {},
   "outputs": [
    {
     "data": {
      "text/html": [
       "<button id=\"launcher\">Launch Game Simulator</button>\n",
       "<script src=\"setupLauncher.js\"></script>"
      ],
      "text/plain": [
       "<IPython.core.display.HTML object>"
      ]
     },
     "metadata": {},
     "output_type": "display_data"
    }
   ],
   "source": [
    "%%HTML\n",
    "<button id=\"launcher\">Launch Game Simulator</button>\n",
    "<script src=\"setupLauncher.js\"></script>"
   ]
  },
  {
   "cell_type": "markdown",
   "metadata": {},
   "source": [
    "The available controls are:\n",
    "\n",
    "* __W__ - move forward. (Note: when playing the game, the agent will move forward, if you don't select a different action in time, so you can also think of this action as the \"do nothing\" action.)\n",
    "* __S__ - move backward.\n",
    "* __A__ - turn left.\n",
    "* __D__ - turn right."
   ]
  }
 ],
 "metadata": {
  "kernelspec": {
   "display_name": "Python 3",
   "language": "python",
   "name": "python3"
  },
  "language_info": {
   "codemirror_mode": {
    "name": "ipython",
    "version": 3
   },
   "file_extension": ".py",
   "mimetype": "text/x-python",
   "name": "python",
   "nbconvert_exporter": "python",
   "pygments_lexer": "ipython3",
   "version": "3.6.4"
  }
 },
 "nbformat": 4,
 "nbformat_minor": 2
}
